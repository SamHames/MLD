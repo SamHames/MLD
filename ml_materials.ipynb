{
 "cells": [
  {
   "cell_type": "markdown",
   "metadata": {},
   "source": [
    "# Machine Learning with Python\n",
    "\n",
    "These lessons have been written with a certain type of learner in mind. They assume you are comfortable with writing and using Python code. They also assume a general understanding of statistical concepts. Nothing too esoteric but you should have a working knowledge of regression and significance. ![opencvlogo](images/OpenCV_logo.png)"
   ]
  },
  {
   "cell_type": "markdown",
   "metadata": {},
   "source": []
  },
  {
   "cell_type": "markdown",
   "metadata": {},
   "source": [
    "## Application: Classifying Honeybee Tags\n",
    "\n",
    "Background on project.\n",
    "\n",
    "![](images/setup.jpg)\n",
    "\n",
    "Control Tags             |  Treatment Tags\n",
    ":-------------------------:|:-------------------------:\n",
    "![control tags](images/tag1.jpg)  |  ![Treatment Tags](images/tag2.jpg)\n",
    "\n",
    "![](images/queen.jpg)\n",
    "![](images/beehive.png)\n",
    "![](images/harddrives.jpg)"
   ]
  },
  {
   "cell_type": "markdown",
   "metadata": {},
   "source": [
    "## What is OpenCV?\n",
    "\n",
    "OpenCV (Open Source Computer Vision) is an open-source BSD-licensed library that includes hundreds of computer vision algorithms. It is:\n",
    "\n",
    "* Cross-platform: Windows, Mac, Linux (even Raspberry Pi)\n",
    "* Languages: C++, C, Python & Java\n",
    "* Wrappers: MATLAB/OCTAVE, C#, Ruby, etc\n",
    "* Fast - utilizing threading, CUDA & OpenCL\n",
    "* Python interface uses NumPy matrices for images\n",
    "* Able to be integrated into iPhone and Android apps\n",
    "* Includes machine learning algorithms (although we'll be using scikit-learn)\n",
    "\n",
    "It can be downloaded for free from their [website](http://opencv.org) or installed via a package manager like homebrew on Macs."
   ]
  },
  {
   "cell_type": "markdown",
   "metadata": {
    "collapsed": true
   },
   "source": [
    "## What is an image?\n",
    "\n",
    "Images, pixels, grayscale, colour, show pic of image matrix."
   ]
  },
  {
   "cell_type": "markdown",
   "metadata": {},
   "source": [
    "## What is machine learning?\n",
    "\n",
    "Quick intro: statistics, training, un/supervised"
   ]
  },
  {
   "cell_type": "code",
   "execution_count": 1,
   "metadata": {
    "collapsed": true
   },
   "outputs": [],
   "source": [
    "# libraries we're using\n",
    "import cv2\n",
    "import numpy as np\n",
    "import matplotlib.pyplot as plt\n",
    "import matplotlib.cm as cm\n",
    "%matplotlib inline"
   ]
  },
  {
   "cell_type": "markdown",
   "metadata": {},
   "source": [
    "## Reading Images\n",
    "\n",
    "We're going to be reading in these images as grayscale..."
   ]
  },
  {
   "cell_type": "code",
   "execution_count": null,
   "metadata": {
    "collapsed": true
   },
   "outputs": [],
   "source": [
    "image = cv2.imread('images/hela.jpg', 1) # 0: grayscale, 1: color, -1: unchanged\n",
    "plt.figure(figsize = (10, 7))\n",
    "plt.title('HeLa Cells')\n",
    "plt.axis('off')\n",
    "plt.imshow(image)"
   ]
  },
  {
   "cell_type": "markdown",
   "metadata": {},
   "source": [
    "## Image Properties\n",
    "\n",
    "Can check size, shape, dimensions, increase contrast, brightness"
   ]
  },
  {
   "cell_type": "code",
   "execution_count": null,
   "metadata": {
    "collapsed": true
   },
   "outputs": [],
   "source": [
    "print (image.shape)\n",
    "print (image.dtype)\n",
    "print (image[55, 10]) # access pixel values by row and column\n",
    "print (image[55, 10, 1]) # access green pixel\n",
    "# image[55, 10] = [11, 55, 22] change pixel value\n",
    "image_region = image[55:100,200:500]\n",
    "bgr = cv2.split(image)\n",
    "merged = cv2.merge((bgr))"
   ]
  },
  {
   "cell_type": "markdown",
   "metadata": {},
   "source": [
    "## Feature Engineering\n",
    "\n",
    "Feature are important, looking at brightness, smoothing, etc"
   ]
  },
  {
   "cell_type": "markdown",
   "metadata": {},
   "source": [
    "## Contrast/Brightness"
   ]
  },
  {
   "cell_type": "code",
   "execution_count": null,
   "metadata": {
    "collapsed": true
   },
   "outputs": [],
   "source": [
    "increase_contrast = image * 3\n",
    "decrease_contrast = image * 0.5\n",
    "increase_brightness = image + 30\n",
    "decrease_brightness = image - 30\n",
    "\n",
    "plt.figure(figsize = (10, 7))\n",
    "plt.title('HeLa Cells')\n",
    "plt.axis('off')\n",
    "plt.imshow(decrease_contrast)"
   ]
  },
  {
   "cell_type": "markdown",
   "metadata": {},
   "source": [
    "## Smoothing\n",
    "More commonly know as applying a blur. Used to eliminate noise."
   ]
  },
  {
   "cell_type": "code",
   "execution_count": null,
   "metadata": {
    "collapsed": true
   },
   "outputs": [],
   "source": [
    "mean_smoothed = cv2.blur(gray_image, (15, 15))\n",
    "median_smoothed = cv2.medianBlur(gray_image, 15)\n",
    "gaussian_smoothed = cv2.GaussianBlur(gray_image, (15, 15), 0)\n",
    "\n",
    "mean_compare = np.hstack((gray_image, mean_smoothed))\n",
    "median_compare = np.hstack((gray_image, median_smoothed))\n",
    "gaussian_compare = np.hstack((gray_image, gaussian_smoothed))\n",
    "\n",
    "plt.figure(figsize = (15, 12))\n",
    "plt.title('Mean')\n",
    "plt.axis('off')\n",
    "plt.imshow(mean_compare, cmap = cm.Greys_r) \n",
    "\n",
    "plt.figure(figsize = (15, 12))\n",
    "plt.title('Median')\n",
    "plt.axis('off')\n",
    "plt.imshow(median_compare, cmap = cm.Greys_r)\n",
    "\n",
    "plt.figure(figsize = (15, 12))\n",
    "plt.title('Gaussian')\n",
    "plt.axis('off')\n",
    "plt.imshow(gaussian_compare, cmap = cm.Greys_r)"
   ]
  },
  {
   "cell_type": "markdown",
   "metadata": {},
   "source": [
    "## Visualising Data\n",
    "\n",
    "Important to visualise, etc"
   ]
  },
  {
   "cell_type": "markdown",
   "metadata": {},
   "source": [
    "## Clustering - PCA, K means, supervised clustering - LDA"
   ]
  },
  {
   "cell_type": "markdown",
   "metadata": {},
   "source": [
    "## Splitting Training/Test Data"
   ]
  },
  {
   "cell_type": "markdown",
   "metadata": {},
   "source": [
    "## SVM Classification\n",
    "\n",
    "Include pic of SVM theory."
   ]
  },
  {
   "cell_type": "markdown",
   "metadata": {},
   "source": [
    "## Code from notebook talk:"
   ]
  },
  {
   "cell_type": "code",
   "execution_count": null,
   "metadata": {
    "collapsed": true
   },
   "outputs": [],
   "source": [
    "import cv2\n",
    "import matplotlib.pyplot as plt\n",
    "import matplotlib.cm as cm\n",
    "import numpy as np\n",
    "import glob\n",
    "%matplotlib inline\n",
    "\n",
    "def read_gray_img(img_loc):\n",
    "    image = cv2.imread(img_loc, 0)\n",
    "    return image\n",
    "\n",
    "def flatten_image(roi):\n",
    "    flat_roi = roi.flatten()\n",
    "    return flat_roi"
   ]
  },
  {
   "cell_type": "code",
   "execution_count": null,
   "metadata": {
    "collapsed": true
   },
   "outputs": [],
   "source": [
    "tags = []\n",
    "classify = []\n",
    "\n",
    "tags.extend(glob.glob('I/*.png'))\n",
    "classify.extend(len(glob.glob('I/*.png')) * [1])\n",
    "tags.extend(glob.glob('O/*.png'))\n",
    "classify.extend(len(glob.glob('O/*.png')) * [2])\n",
    "tags.extend(glob.glob('Q/*.png'))\n",
    "classify.extend(len(glob.glob('Q/*.png')) * [3])\n",
    "\n",
    "plt.figure()\n",
    "plt.imshow(read_tags[0], cmap = cm.Greys_r)\n",
    "plt.figure()\n",
    "plt.imshow(read_tags[108], cmap = cm.Greys_r)\n",
    "plt.figure()\n",
    "plt.imshow(read_tags[211], cmap = cm.Greys_r)"
   ]
  },
  {
   "cell_type": "code",
   "execution_count": null,
   "metadata": {
    "collapsed": true
   },
   "outputs": [],
   "source": [
    "tag_flat = list(map(flatten_image, read_tags))\n",
    "X = np.array(tag_flat)\n",
    "print(X.shape)\n",
    "y = np.array(classify)\n",
    "print(y.shape)"
   ]
  },
  {
   "cell_type": "code",
   "execution_count": null,
   "metadata": {
    "collapsed": true
   },
   "outputs": [],
   "source": [
    "from sklearn.cross_validation import train_test_split\n",
    "\n",
    "X_train, X_test, y_train, y_test = train_test_split(X, y, test_size = 0.2, random_state=4)\n",
    "print(X_train.shape, y_train.shape, X_test.shape, y_test.shape)"
   ]
  },
  {
   "cell_type": "code",
   "execution_count": null,
   "metadata": {
    "collapsed": true
   },
   "outputs": [],
   "source": [
    "from sklearn.decomposition import PCA\n",
    "from sklearn.lda import LDA\n",
    "\n",
    "pca = PCA(n_components=2)\n",
    "X_r = pca.fit(X).transform(X)\n",
    "plt.figure(figsize = (35, 20))\n",
    "plt.scatter(X_r[:, 0], X_r[:, 1], c=y, s=200)\n",
    "\n",
    "lda = LDA(n_components=2)\n",
    "lda = lda.fit(X_train, y_train)\n",
    "X_lda = lda.transform(X_train)\n",
    "Z = lda.transform(X_test)\n",
    "plt.figure(figsize = (35, 20))\n",
    "plt.scatter(X_lda[:, 0], X_lda[:, 1], c=y_train, s=200)"
   ]
  },
  {
   "cell_type": "code",
   "execution_count": null,
   "metadata": {
    "collapsed": true
   },
   "outputs": [],
   "source": [
    "from sklearn import svm\n",
    "from sklearn import metrics\n",
    "\n",
    "clf = svm.SVC(gamma=0.001, C=10)\n",
    "clf.fit(X_lda, y_train)\n",
    "y_pred = clf.predict(Z)\n",
    "\n",
    "print metrics.accuracy_score(y_test, y_pred)"
   ]
  }
 ],
 "metadata": {
  "kernelspec": {
   "display_name": "Python 3",
   "language": "python",
   "name": "python3"
  },
  "language_info": {
   "codemirror_mode": {
    "name": "ipython",
    "version": 3
   },
   "file_extension": ".py",
   "mimetype": "text/x-python",
   "name": "python",
   "nbconvert_exporter": "python",
   "pygments_lexer": "ipython3",
   "version": "3.5.0"
  }
 },
 "nbformat": 4,
 "nbformat_minor": 0
}
