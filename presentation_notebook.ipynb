{
 "cells": [
  {
   "cell_type": "markdown",
   "metadata": {
    "slideshow": {
     "slide_type": "slide"
    }
   },
   "source": [
    "# Data\n",
    "\n",
    "Download here:\n",
    "https://raw.githubusercontent.com/SamHames/MLD/master/data.npz"
   ]
  },
  {
   "cell_type": "markdown",
   "metadata": {
    "slideshow": {
     "slide_type": "slide"
    }
   },
   "source": [
    "# Pip in a virtual environment\n",
    "    \n",
    "    #Setup a virtual environment\n",
    "    /path/to/python3 -m venv ml_tutorial\n",
    "    source ml_tutorial/bin/activate\n",
    "\n",
    "    # Upgrade pip to newest version\n",
    "    python -m pip install --upgrade pip\n",
    "\n",
    "    # Install the dependencies\n",
    "    python -m pip install numpy scipy scikit-learn"
   ]
  },
  {
   "cell_type": "markdown",
   "metadata": {
    "slideshow": {
     "slide_type": "slide"
    }
   },
   "source": [
    "# Conda\n",
    "\n",
    "    # After installing conda or miniconda\n",
    "    conda create -n ml_tutorial python=3.5 scikit-learn\n",
    "    source activate ml_tutorial\n",
    "\n",
    "    # Activate the Conda environment on Windows:\n",
    "    activate ml_tutorial"
   ]
  },
  {
   "cell_type": "markdown",
   "metadata": {
    "slideshow": {
     "slide_type": "slide"
    }
   },
   "source": [
    "\n",
    "# Demonstration environment\n",
    "    pip install jupyter matplotlib\n",
    "\n",
    "    # Inside a Conda environment (these are already installed in the base distribution)\n",
    "    conda install jupyter matplotlib"
   ]
  },
  {
   "cell_type": "markdown",
   "metadata": {
    "slideshow": {
     "slide_type": "slide"
    }
   },
   "source": [
    "# Testing Your Installation\n",
    "\n",
    "If the following works you are ready for this workshop.\n",
    "\n",
    "    import numpy as np\n",
    "    import sklearn\n",
    "\n",
    "    dataset = np.load('path/to/data.npz')\n",
    "    images = dataset['images']\n",
    "    labels = dataset['labels']"
   ]
  },
  {
   "cell_type": "code",
   "execution_count": null,
   "metadata": {
    "slideshow": {
     "slide_type": "slide"
    }
   },
   "outputs": [],
   "source": [
    "# Import the libraries\n",
    "\n",
    "\n",
    "# Load the dataset"
   ]
  },
  {
   "cell_type": "code",
   "execution_count": 5,
   "metadata": {
    "slideshow": {
     "slide_type": "subslide"
    }
   },
   "outputs": [
    {
     "name": "stdout",
     "output_type": "stream",
     "text": [
      "[[[ 25  35  39 ...  53  53  37]\n",
      "  [ 34  45  46 ...  90  78  55]\n",
      "  [ 43  52  51 ... 129 114  66]\n",
      "  ...\n",
      "  [ 43  52  21 ... 237 182 135]\n",
      "  [ 42  49  34 ... 164 106  63]\n",
      "  [ 47  47  33 ... 125  72  39]]\n",
      "\n",
      " [[ 51  44  44 ...  40  43  40]\n",
      "  [ 50  48  59 ...  53  61  57]\n",
      "  [ 53  61  75 ...  57  56  50]\n",
      "  ...\n",
      "  [ 25  25  50 ... 248 241 191]\n",
      "  [ 32  31  49 ... 244 227 157]\n",
      "  [ 46  45  43 ... 194 150  96]]\n",
      "\n",
      " [[ 24  30  32 ...  58  66  41]\n",
      "  [ 18  29  36 ...  52  22  25]\n",
      "  [ 17  29  39 ...  81  19  22]\n",
      "  ...\n",
      "  [ 37  49  70 ...  54  45  30]\n",
      "  [ 32  47  66 ...  37  33  25]\n",
      "  [ 24  31  38 ...  29  19  16]]\n",
      "\n",
      " ...\n",
      "\n",
      " [[ 56  61  82 ... 107  90  67]\n",
      "  [ 51  67  82 ... 198 156 104]\n",
      "  [ 78 102 103 ... 233 221 180]\n",
      "  ...\n",
      "  [ 62  72  84 ... 232 208 145]\n",
      "  [ 62  81  70 ... 175 148 100]\n",
      "  [ 51  93  77 ... 104 107  88]]\n",
      "\n",
      " [[ 74  66  66 ...  72  56  56]\n",
      "  [ 90  88  82 ...  80  56  42]\n",
      "  [ 85 100  97 ...  96  87  71]\n",
      "  ...\n",
      "  [ 86  85  82 ... 148  82  70]\n",
      "  [ 47  70  74 ... 121  84  65]\n",
      "  [ 57  68  65 ... 101  87  74]]\n",
      "\n",
      " [[ 59  47  61 ...  69  52  55]\n",
      "  [ 66  73  86 ...  89  87  82]\n",
      "  [ 71  90 103 ... 128 108  96]\n",
      "  ...\n",
      "  [ 80 118 126 ... 214 159 123]\n",
      "  [ 70  95  89 ... 143 115 106]\n",
      "  [ 63  66  78 ...  86  75  87]]]\n",
      "[0 0 0 0 0 0 0 0 0 0 0 0 0 0 0 0 0 0 0 0 0 0 0 0 0 0 0 0 0 0 0 0 0 0 0 0 0\n",
      " 0 0 0 0 0 0 0 0 0 0 0 0 0 0 0 0 0 0 0 0 0 0 0 0 0 0 0 0 0 0 0 0 0 0 0 0 0\n",
      " 0 0 0 0 0 0 0 0 0 0 0 0 0 0 0 0 0 0 0 0 0 0 0 0 0 0 0 0 0 0 0 0 0 0 0 0 0\n",
      " 0 0 0 0 0 0 0 0 0 0 0 0 0 0 0 0 0 0 0 0 0 0 0 0 0 0 0 0 0 0 0 0 0 0 0 0 0\n",
      " 0 0 0 0 0 0 0 0 0 0 0 0 0 0 0 0 0 0 0 0 0 0 0 0 0 0 0 0 0 0 0 0 0 0 0 0 0\n",
      " 0 0 0 0 0 0 0 0 0 0 0 0 0 0 0 0 0 0 0 0 0 0 0 0 0 0 0 0 0 0 0 0 0 0 0 0 0\n",
      " 0 0 0 0 0 0 0 0 0 0 0 0 0 0 0 0 0 0 0 0 0 0 0 0 0 0 0 0 0 0 0 0 0 0 0 0 0\n",
      " 0 0 0 0 0 0 0 0 0 0 0 0 0 0 0 0 0 0 0 0 0 0 0 0 0 0 0 0 0 0 0 0 0 0 0 0 0\n",
      " 0 0 0 0 0 0 0 0 0 0 0 0 0 0 1 1 1 1 1 1 1 1 1 1 1 1 1 1 1 1 1 1 1 1 1 1 1\n",
      " 1 1 1 1 1 1 1 1 1 1 1 1 1 1 1 1 1 1 1 1 1 1 1 1 1 1 1 1 1 1 1 1 1 1 1 1 1\n",
      " 1 1 1 1 1 1 1 1 1 1 1 1 1 1 1 1 1 1 1 1 1 1 1 1 1 1 1 1 1 1 1 1 1 1 1 1 1\n",
      " 1 1 1 1 1 1 1 1 1 1 1 1 1 1 1 1 1 1 1 1 1 1 1 1 1 1 1 1 1 1 1 1 1 1 1 1 1\n",
      " 1 1 1 1 1 1 1 1 1 1 1 1 1 1 1 1 1 1 1 1 1 1 1 1 1 1 1 1 1 1 1 1 1 1 1 1 1\n",
      " 1 1 1 1 1 1 1 1 1 1 1 1 1 1 1 1 1 1 1 1 1 1 1 1 1 1 1 1 1 1 1 1 1 1 1 1 1\n",
      " 1 1 1 1 1 1 1 1 1 1 1 1 1 1 1 1 1 1 1 1 1 1 1 1 1 1 1 1 1 1 1 1 1 1 1 1 1\n",
      " 1 1 1 1 1 1 1 1 1 1 1 1 1 1 1 1 1 1 1 1 1 1 1 1 1 1 1 1 1 1 1 1 1 1 1 1 1\n",
      " 1 1 1 1 1 1 1 1 1 1 1 1 1 1 1 1 1 1 1 1 1 1 1 1 1 1 1 1 1 1 2 2 2 2 2 2 2\n",
      " 2 2 2 2 2 2 2 2 2 2 2 2 2 2 2 2 2 2 2 2 2 2 2 2 2 2 2 2 2 2 2 2 2 2 2 2 2\n",
      " 2 2 2 2 2 2 2 2 2 2 2 2 2 2 2 2 2 2 2 2 2 2 2 2 2 2 2 2 2 2 2 2 2 2 2 2 2\n",
      " 2 2 2 2 2 2 2 2 2 2 2 2 2 2 2 2 2 2 2 2 2 2 2 2 2 2 2]\n"
     ]
    },
    {
     "data": {
      "text/plain": [
       "<matplotlib.image.AxesImage at 0x7f9c03f983c8>"
      ]
     },
     "execution_count": 5,
     "metadata": {},
     "output_type": "execute_result"
    },
    {
     "data": {
      "image/png": "[encoded data removed]",
      "text/plain": [
       "<Figure size 432x288 with 1 Axes>"
      ]
     },
     "metadata": {},
     "output_type": "display_data"
    }
   ],
   "source": [
    "import numpy as np\n",
    "\n",
    "# Optional for plotting\n",
    "import matplotlib.pyplot as plt\n",
    "\n",
    "# Optional for notebook display\n",
    "%matplotlib inline\n",
    "\n",
    "data = np.load('data.npz')\n",
    "images = data['images']\n",
    "labels = data['labels']\n",
    "\n",
    "print(images)\n",
    "print(labels)\n",
    "plt.imshow(images[0])\n"
   ]
  },
  {
   "cell_type": "code",
   "execution_count": null,
   "metadata": {
    "slideshow": {
     "slide_type": "slide"
    }
   },
   "outputs": [],
   "source": [
    "# Image Properties"
   ]
  },
  {
   "cell_type": "code",
   "execution_count": 6,
   "metadata": {
    "slideshow": {
     "slide_type": "subslide"
    }
   },
   "outputs": [
    {
     "name": "stdout",
     "output_type": "stream",
     "text": [
      "(24, 24)\n",
      "(3, 24, 24)\n"
     ]
    }
   ],
   "source": [
    "# Image Properties\n",
    "\n",
    "# Get the first image:\n",
    "first_image = images[0] # Or equivalently: images[0, :, :]\n",
    "print(first_image.shape)\n",
    "\n",
    "# Get first three images:\n",
    "several_images = images[:3]\n",
    "print(several_images.shape)"
   ]
  },
  {
   "cell_type": "markdown",
   "metadata": {
    "slideshow": {
     "slide_type": "slide"
    }
   },
   "source": [
    "# Our Data\n",
    "\n",
    "![](images/example_images.png)"
   ]
  },
  {
   "cell_type": "code",
   "execution_count": null,
   "metadata": {
    "slideshow": {
     "slide_type": "slide"
    }
   },
   "outputs": [],
   "source": [
    "# Slicing and dicing"
   ]
  },
  {
   "cell_type": "code",
   "execution_count": null,
   "metadata": {
    "slideshow": {
     "slide_type": "subslide"
    }
   },
   "outputs": [],
   "source": [
    "# Slicing and dicing\n",
    "cropped_image = first_image[4:20,4:20]\n",
    "print(cropped_image.shape)"
   ]
  },
  {
   "cell_type": "code",
   "execution_count": null,
   "metadata": {
    "slideshow": {
     "slide_type": "slide"
    }
   },
   "outputs": [],
   "source": [
    "# Getting our data in the right format"
   ]
  },
  {
   "cell_type": "code",
   "execution_count": 9,
   "metadata": {
    "slideshow": {
     "slide_type": "subslide"
    }
   },
   "outputs": [
    {
     "name": "stdout",
     "output_type": "stream",
     "text": [
      "(730, 576)\n"
     ]
    },
    {
     "data": {
      "text/plain": [
       "[<matplotlib.lines.Line2D at 0x7f9c026bdcc0>]"
      ]
     },
     "execution_count": 9,
     "metadata": {},
     "output_type": "execute_result"
    },
    {
     "data": {
      "image/png": "[encoded data removed]",
      "text/plain": [
       "<Figure size 432x288 with 1 Axes>"
      ]
     },
     "metadata": {},
     "output_type": "display_data"
    }
   ],
   "source": [
    "# Getting our data in the right format\n",
    "\n",
    "X = np.reshape(images, (730, -1))\n",
    "print(X.shape)\n",
    "\n",
    "plt.plot(X[0])"
   ]
  },
  {
   "cell_type": "code",
   "execution_count": null,
   "metadata": {
    "slideshow": {
     "slide_type": "slide"
    }
   },
   "outputs": [],
   "source": [
    "# Modifying arrays"
   ]
  },
  {
   "cell_type": "code",
   "execution_count": null,
   "metadata": {
    "slideshow": {
     "slide_type": "subslide"
    }
   },
   "outputs": [],
   "source": [
    "# Modifying arrays\n",
    "\n",
    "increase_brightness = first_image + 30\n",
    "decrease_brightness = first_image - 30\n",
    "increase_contrast = first_image * 1.5\n",
    "decrease_contrast = first_image * 0.5\n",
    "\n",
    "brightness_compare = np.hstack((increase_brightness, decrease_brightness))\n",
    "constrast_compare = np.hstack((increase_contrast, decrease_contrast))\n",
    "\n",
    "plt.figure(figsize = (15, 12))\n",
    "plt.title('Brightness')\n",
    "plt.axis('off')\n",
    "plt.imshow(brightness_compare, cmap='gray') \n",
    "\n",
    "plt.figure(figsize = (15, 12))\n",
    "plt.title('Contrast')\n",
    "plt.axis('off')\n",
    "plt.imshow(constrast_compare, cmap='gray')"
   ]
  },
  {
   "cell_type": "markdown",
   "metadata": {
    "slideshow": {
     "slide_type": "slide"
    }
   },
   "source": [
    "# Questions/Exercises\n",
    "\n",
    "1. Why do we have to be careful with the datatype for numerical operations?"
   ]
  },
  {
   "cell_type": "markdown",
   "metadata": {
    "slideshow": {
     "slide_type": "slide"
    }
   },
   "source": [
    "Tag Number             |  Pattern   | Details\n",
    ":-------------------------:|:-------------------------: | :-------------------------:\n",
    "0  |  Rectangle | 100 bees that were the control group\n",
    "1  |  Circle    | 100 bees that were treated with caffeine\n",
    "2  | Blank      | Single queen in the colony received this tag"
   ]
  },
  {
   "cell_type": "code",
   "execution_count": null,
   "metadata": {
    "slideshow": {
     "slide_type": "fragment"
    }
   },
   "outputs": [],
   "source": [
    "# The labels to go with the images\n"
   ]
  },
  {
   "cell_type": "code",
   "execution_count": 10,
   "metadata": {
    "slideshow": {
     "slide_type": "subslide"
    }
   },
   "outputs": [
    {
     "name": "stdout",
     "output_type": "stream",
     "text": [
      "(730,)\n",
      "[0 0 0 0 1 1 1 2]\n"
     ]
    }
   ],
   "source": [
    "# The labels to go with the images\n",
    "\n",
    "labels = data['labels']\n",
    "\n",
    "print(labels.shape)\n",
    "print(labels[::100])\n",
    "\n",
    "y = labels"
   ]
  },
  {
   "cell_type": "code",
   "execution_count": null,
   "metadata": {
    "slideshow": {
     "slide_type": "slide"
    }
   },
   "outputs": [],
   "source": [
    "# Split of a testing set"
   ]
  },
  {
   "cell_type": "code",
   "execution_count": 11,
   "metadata": {
    "slideshow": {
     "slide_type": "subslide"
    }
   },
   "outputs": [
    {
     "name": "stdout",
     "output_type": "stream",
     "text": [
      "(584, 576) (584,) (146, 576) (146,)\n"
     ]
    }
   ],
   "source": [
    "# Split of a testing set\n",
    "\n",
    "from sklearn.model_selection import train_test_split\n",
    "\n",
    "X_train, X_test, y_train, y_test = train_test_split(\n",
    "    X, y, test_size = 0.2, random_state=4\n",
    ")\n",
    "print(\n",
    "    X_train.shape, y_train.shape, \n",
    "    X_test.shape, y_test.shape\n",
    ")"
   ]
  },
  {
   "cell_type": "code",
   "execution_count": null,
   "metadata": {
    "slideshow": {
     "slide_type": "slide"
    }
   },
   "outputs": [],
   "source": [
    "# Visualise the data"
   ]
  },
  {
   "cell_type": "code",
   "execution_count": 16,
   "metadata": {
    "slideshow": {
     "slide_type": "subslide"
    }
   },
   "outputs": [
    {
     "name": "stdout",
     "output_type": "stream",
     "text": [
      "(584, 2)\n"
     ]
    },
    {
     "data": {
      "text/plain": [
       "<matplotlib.collections.PathCollection at 0x7f9bf28c9588>"
      ]
     },
     "execution_count": 16,
     "metadata": {},
     "output_type": "execute_result"
    },
    {
     "data": {
      "image/png": "[encoded data removed]",
      "text/plain": [
       "<Figure size 504x360 with 1 Axes>"
      ]
     },
     "metadata": {},
     "output_type": "display_data"
    }
   ],
   "source": [
    "# Visualise the data\n",
    "from sklearn.decomposition import PCA\n",
    "\n",
    "pca = PCA(n_components=2)\n",
    "fit_trans_X = pca.fit(X_train).transform(X_train)\n",
    "print(fit_trans_X.shape)\n",
    "plt.figure(figsize = (7, 5))\n",
    "plt.scatter(\n",
    "    fit_trans_X[:, 0], fit_trans_X[:, 1], c=y_train, s=20\n",
    ")"
   ]
  },
  {
   "cell_type": "code",
   "execution_count": null,
   "metadata": {},
   "outputs": [],
   "source": [
    "# A better transformation"
   ]
  },
  {
   "cell_type": "code",
   "execution_count": null,
   "metadata": {
    "slideshow": {
     "slide_type": "subslide"
    }
   },
   "outputs": [],
   "source": [
    "# A better transformation\n",
    "\n",
    "from sklearn.discriminant_analysis import LinearDiscriminantAnalysis as LDA\n",
    "\n",
    "lda = LDA(n_components=2)\n",
    "lda_model = lda.fit(X_train, y_train)\n",
    "X_trans = lda_model.transform(X_train)\n",
    "plt.figure(figsize = (7, 5))\n",
    "plt.scatter(X_trans[:, 0], X_trans[:, 1], c=y_train, s=20)"
   ]
  },
  {
   "cell_type": "markdown",
   "metadata": {
    "slideshow": {
     "slide_type": "slide"
    }
   },
   "source": [
    "![](images/svm.png)"
   ]
  },
  {
   "cell_type": "code",
   "execution_count": null,
   "metadata": {
    "slideshow": {
     "slide_type": "fragment"
    }
   },
   "outputs": [],
   "source": [
    "# Now lets make some predictions\n"
   ]
  },
  {
   "cell_type": "code",
   "execution_count": 19,
   "metadata": {
    "slideshow": {
     "slide_type": "subslide"
    }
   },
   "outputs": [
    {
     "data": {
      "text/plain": [
       "SVC(C=10, cache_size=200, class_weight=None, coef0=0.0,\n",
       "  decision_function_shape='ovr', degree=3, gamma=0.0001, kernel='rbf',\n",
       "  max_iter=-1, probability=False, random_state=None, shrinking=True,\n",
       "  tol=0.001, verbose=False)"
      ]
     },
     "execution_count": 19,
     "metadata": {},
     "output_type": "execute_result"
    }
   ],
   "source": [
    "# Now lets make some predictions\n",
    "from sklearn import svm\n",
    "\n",
    "clf = svm.SVC(gamma=0.0001, C=10)\n",
    "clf.fit(X_train, y_train)"
   ]
  },
  {
   "cell_type": "code",
   "execution_count": null,
   "metadata": {
    "slideshow": {
     "slide_type": "slide"
    }
   },
   "outputs": [],
   "source": [
    "# How well did we do?\n"
   ]
  },
  {
   "cell_type": "code",
   "execution_count": 23,
   "metadata": {
    "slideshow": {
     "slide_type": "subslide"
    }
   },
   "outputs": [
    {
     "name": "stdout",
     "output_type": "stream",
     "text": [
      "[1 1 1 1 1 1 1 1 1 1 1 1 1 1 1 1 1 1 1 1 1 1 1 1 1 1 1 1 1 1 1 1 1 1 1 1 1\n",
      " 1 1 1 1 1 1 1 1 1 1 1 1 1 1 1 1 1 1 1 1 1 1 1 1 1 1 1 1 1 1 1 1 1 1 1 1 1\n",
      " 1 1 1 1 1 1 1 1 1 1 1 1 1 1 1 1 1 1 1 1 1 1 1 1 1 1 1 1 1 1 1 1 1 1 1 1 1\n",
      " 1 1 1 1 1 1 1 1 1 1 1 1 1 1 1 1 1 1 1 1 1 1 1 1 1 1 1 1 1 1 1 1 1 1 1]\n",
      "0.4178082191780822\n"
     ]
    }
   ],
   "source": [
    "# How well did we do?\n",
    "# transform_testing_set = pca.transform(X_test)\n",
    "y_pred = clf.predict(X_test)\n",
    "print(y_pred)\n",
    "\n",
    "from sklearn import metrics\n",
    "\n",
    "print (metrics.accuracy_score(y_test, y_pred))"
   ]
  },
  {
   "cell_type": "markdown",
   "metadata": {
    "slideshow": {
     "slide_type": "slide"
    }
   },
   "source": [
    "# Exercises\n",
    "\n",
    "1. Replace the SVM classifier with any other classifier from the scikit-learn library.\n",
    "2. Compare the classification performance both with and without LDA.\n",
    "3. What happens if we evaluate our performance on the training set?"
   ]
  },
  {
   "cell_type": "code",
   "execution_count": null,
   "metadata": {
    "slideshow": {
     "slide_type": "slide"
    }
   },
   "outputs": [],
   "source": [
    "# Let's build a pipeline"
   ]
  },
  {
   "cell_type": "code",
   "execution_count": 30,
   "metadata": {
    "slideshow": {
     "slide_type": "subslide"
    }
   },
   "outputs": [
    {
     "data": {
      "text/plain": [
       "0.5821917808219178"
      ]
     },
     "execution_count": 30,
     "metadata": {},
     "output_type": "execute_result"
    }
   ],
   "source": [
    "# Let's build a pipeline\n",
    "from sklearn.pipeline import Pipeline\n",
    "\n",
    "# Start by creating the individual steps in the pipeline\n",
    "pca = PCA(n_components=50)\n",
    "svc = svm.SVC(gamma=0.0001, C=1e6)\n",
    "\n",
    "pipeline = Pipeline([('pca', pca),\n",
    "                     ('svc', svc)])\n",
    "\n",
    "pipeline.fit(X_train, y_train)\n",
    "\n",
    "pipeline.score(X_test, y_test)"
   ]
  },
  {
   "cell_type": "code",
   "execution_count": null,
   "metadata": {
    "slideshow": {
     "slide_type": "slide"
    }
   },
   "outputs": [],
   "source": [
    "# Put it all together"
   ]
  },
  {
   "cell_type": "code",
   "execution_count": 39,
   "metadata": {},
   "outputs": [
    {
     "name": "stdout",
     "output_type": "stream",
     "text": [
      "0.9931506849315068\n",
      "0.9794520547945206\n",
      "{'svc__C': 10, 'pca__n_components': 2}\n"
     ]
    }
   ],
   "source": [
    "# Finding good parameters\n",
    "\n",
    "from sklearn.model_selection import RandomizedSearchCV\n",
    "\n",
    "search_range = {'pca__n_components': [2, 3, 5, 10, 15, 20, 30, 50],\n",
    "                'svc__C': [1, 10, 100, 1000, 10e3, 10e4]}\n",
    "\n",
    "searcher = RandomizedSearchCV(pipeline, search_range, n_iter=20)\n",
    "\n",
    "searcher.fit(X_train, y_train)\n",
    "print(searcher.score(X_train, y_train))\n",
    "print(searcher.score(X_test, y_test))\n",
    "print(searcher.best_params_)"
   ]
  },
  {
   "cell_type": "code",
   "execution_count": null,
   "metadata": {},
   "outputs": [],
   "source": [
    "# Testing it out"
   ]
  },
  {
   "cell_type": "code",
   "execution_count": null,
   "metadata": {},
   "outputs": [],
   "source": [
    "# Testing it out\n",
    "print(searcher.best_score_)\n",
    "print(searcher.best_params_)\n",
    "searcher.score(images, labels)"
   ]
  },
  {
   "cell_type": "markdown",
   "metadata": {},
   "source": [
    "# Questions/Exercises\n",
    "\n",
    "1. Why is searcher.score(images, labels) not an accurate measure of performance? How do we fix it?\n",
    "2. Try out some other classifiers in the pipeline - can you improve the final performance on the test set? What about with other search parameters?\n",
    "3. Is accuracy really the best measure of performance for this dataset?"
   ]
  },
  {
   "cell_type": "code",
   "execution_count": null,
   "metadata": {},
   "outputs": [],
   "source": [
    "# Solution to one:\n",
    "\n",
    "image_train, image_test, label_train, label_test = train_test_split(images, \n",
    "                                                                    labels, \n",
    "                                                                    test_size=0.2)\n",
    "searcher.fit(image_train, label_train)\n",
    "searcher.score(image_test, label_test)"
   ]
  },
  {
   "cell_type": "code",
   "execution_count": null,
   "metadata": {},
   "outputs": [],
   "source": []
  },
  {
   "cell_type": "code",
   "execution_count": null,
   "metadata": {},
   "outputs": [],
   "source": []
  }
 ],
 "metadata": {
  "celltoolbar": "Slideshow",
  "kernelspec": {
   "display_name": "Python 3",
   "language": "python",
   "name": "python3"
  },
  "language_info": {
   "codemirror_mode": {
    "name": "ipython",
    "version": 3
   },
   "file_extension": ".py",
   "mimetype": "text/x-python",
   "name": "python",
   "nbconvert_exporter": "python",
   "pygments_lexer": "ipython3",
   "version": "3.6.2"
  }
 },
 "nbformat": 4,
 "nbformat_minor": 1
}
